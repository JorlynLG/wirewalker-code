{
 "cells": [
  {
   "cell_type": "code",
   "execution_count": 87,
   "metadata": {
    "collapsed": true
   },
   "outputs": [],
   "source": [
    "import pandas as pd\n",
    "import numpy as np\n",
    "import matplotlib.pyplot as plt\n",
    "import gsw\n",
    "import scipy.signal as sp\n",
    "import datetime as dt\n",
    "from beam2ENU import beam2ENU\n",
    "import seawater as sw\n",
    "import oceans as oc\n",
    "from scipy.interpolate import griddata\n",
    "from ocean_tools import TKED\n"
   ]
  },
  {
   "cell_type": "code",
   "execution_count": 88,
   "metadata": {
    "collapsed": true
   },
   "outputs": [],
   "source": [
    "directory = '../../Data/deployment_raw/';\n",
    "outdir = '../../plots/Ri/Ri_profile/';\n",
    "deployment_name = 'deploy1_';\n",
    "measurement_type = 'ctd_';\n",
    "file_type = 'raw_'\n",
    "grid = pd.DataFrame(columns=['N2','shr2','Ri']) # Note that there are now row data inserted."
   ]
  },
  {
   "cell_type": "code",
   "execution_count": 89,
   "metadata": {
    "collapsed": true
   },
   "outputs": [],
   "source": [
    "def create_data(directory, c_file, a_file):\n",
    "    #Open the CTD data file that has all data stored as pandas\n",
    "    c_data = pd.read_pickle(directory+deployment_name+file_type+c_file)\n",
    "    a_data = pd.read_pickle(directory+deployment_name+file_type+a_file)\n",
    "\n",
    "    #Join CTD and ADCP data together (add time to CTD data)\n",
    "    start_time = a_data[\"a_time\"].values[1][:-10]\n",
    "    start_time = dt.datetime.strptime(start_time,\"%Y-%m-%dT%H:%M:%S\")\n",
    "    start_time = start_time - dt.timedelta(seconds=15)\n",
    "    c_data[\"c_time\"] = [start_time+dt.timedelta(seconds=x) for x in range(len(c_data[\"c_temp\"].values))]\n",
    "    c_data.index = pd.DatetimeIndex(c_data['c_time'])\n",
    "\n",
    "    #And average ADCP to resample at 1Hz\n",
    "    a_data.index = pd.DatetimeIndex(a_data['a_time'])\n",
    "    a_data = a_data.resample('S').mean()\n",
    "    #Combine both datasets into one dataset by time\n",
    "    data = pd.concat([a_data, c_data], axis=1, sort=False).dropna(axis='rows')\n",
    "    #data_start = data.index[data[\"c_pres\"]>20][0]\n",
    "    #data_end = data.index[data[\"c_pres\"]>100][0]\n",
    "    #data = data[data_start:data_end]\n",
    "    return data"
   ]
  },
  {
   "cell_type": "code",
   "execution_count": 90,
   "metadata": {
    "collapsed": true
   },
   "outputs": [],
   "source": [
    "# def buoyancy_freq(data):\n",
    "#     #Get buoyancy frequency\n",
    "#     CT = gsw.CT_from_t(data['c_sal'],data['c_temp'],data['c_pres'])\n",
    "#     SA = gsw.SA_from_SP(data['c_sal'],data['c_pres'],174,-43)\n",
    "#     [N2,p_mid,dp] = gsw.Nsquared(SA,CT,data['c_pres'])\n",
    "#     #[n2,q,p_ave] = sw.bfrq(data['c_sal'],data['c_temp'],data['c_pres'],-43)\n",
    "#     #N2 = [item[0] for item in n2]\n",
    "#     N2 = np.array(N2)\n",
    "#     data['N2'] = np.append(N2,N2[-1])\n",
    "\n",
    "#     #filter buoyancy frequency by removing outliers\n",
    "#     data['N2'] = data[\"N2\"].replace([np.inf, -np.inf], np.nan)\n",
    "#     data['N2'] = data['N2'].mask(((data['N2']-data['N2'].mean()).abs() > data['N2'].std()))\n",
    "#     data['N2'] = data['N2'].interpolate().rolling(10).mean().abs()\n",
    "#     #data['N2'] = data['N2'].mask(((data['N2']-data['N2'].mean()).abs() > 3*data['N2'].std()))\n",
    "#     #data['N2'] = data['N2'].interpolate()\n",
    "#     #plt.plot(data['N2'])\n",
    "#     #plt.show()\n",
    "#     return data\n",
    "def buoyancy_freq(data):\n",
    "    #Get buoyancy frequency\n",
    "    dp = np.diff(data['c_pres'].values,axis=0)\n",
    "    data['dp'] = np.append(dp,dp[-1])\n",
    "    data['dp'] = data['dp'].mask(((data['dp']-data['dp'].mean()).abs() > data['dp'].std()))\n",
    "    data['dp'] = data['dp'].interpolate().rolling(5).mean()\n",
    "    CT = gsw.CT_from_t(data['c_sal'],data['c_temp'],data['c_pres'])\n",
    "    SA = gsw.SA_from_SP(data['c_sal'],data['c_pres'],174,-43)\n",
    "    pdens = gsw.sigma0(SA, CT)\n",
    "    data['pdens'] = pdens\n",
    "    dpdens = np.diff(data['pdens'].values,axis=0)\n",
    "    data['dpdens'] = np.append(dpdens,dpdens[-1])\n",
    "    data['dpdens'] = data['dpdens'].mask(((data['dpdens']-data['dpdens'].mean()).abs() > data['dpdens'].std()))\n",
    "    data['dpdens'] = data['dpdens'].interpolate().rolling(5).mean()    \n",
    "    data['N2'] = (9.7963*data['dpdens'])/(data['pdens']*data['dp'])\n",
    "\n",
    "    \n",
    "    \n",
    "    #filter buoyancy frequency by removing outliers\n",
    "    #data['N2'] = data['N2'].mask(data['N2']< 0.000005)\n",
    "    data['N2'] = data[\"N2\"].replace([np.inf, -np.inf], np.nan)\n",
    "    data['N2'] = data['N2'].mask(((data['N2']-data['N2'].mean()).abs() > data['N2'].std()))\n",
    "    data['N2'] = data['N2'].interpolate().rolling(10).mean()\n",
    "    #data['N2'] = data['N2'].mask(((data['N2']-data['N2'].mean()).abs() > 3*data['N2'].std()))\n",
    "    #data['N2'] = data['N2'].interpolate()\n",
    "    \n",
    "    #Sorted\n",
    "    data['pdens_sort'] = np.sort(pdens)\n",
    "    dpdens_sort = np.diff(data['pdens_sort'].values,axis=0)\n",
    "    data['dpdens_sort'] = np.append(dpdens_sort,dpdens_sort[-1])\n",
    "    data['dpdens_sort'] = data['dpdens_sort'].mask(((data['dpdens_sort']-data['dpdens_sort'].mean()).abs() > data['dpdens_sort'].std()))\n",
    "    data['dpdens_sort'] = data['dpdens_sort'].interpolate().rolling(5).mean()    \n",
    "    data['N2_sort'] = (9.7963*data['dpdens_sort'])/(data['pdens_sort']*data['dp'])    \n",
    "    \n",
    "    return data"
   ]
  },
  {
   "cell_type": "code",
   "execution_count": 91,
   "metadata": {},
   "outputs": [
    {
     "name": "stderr",
     "output_type": "stream",
     "text": [
      "C:\\Users\\jorly\\Anaconda3\\envs\\wire3\\lib\\site-packages\\ipykernel\\__main__.py:25: FutureWarning: Sorting because non-concatenation axis is not aligned. A future version\n",
      "of pandas will change to not sort by default.\n",
      "\n",
      "To accept the future behavior, pass 'sort=False'.\n",
      "\n",
      "To retain the current behavior and silence the warning, pass 'sort=True'.\n",
      "\n"
     ]
    }
   ],
   "source": [
    "for profile in range(1):\n",
    "    c_file = 'C'+(\"%07d\" % (profile,))\n",
    "    a_file = 'A'+(\"%07d\" % (profile,))\n",
    "    \n",
    "    data = create_data(directory, c_file, a_file)\n",
    "    data = buoyancy_freq(data)\n",
    "    \n",
    "#     #data binned by 1 meter\n",
    "#     ttitle = \"1 meter bins\"\n",
    "#     data['c_depth'] = data['c_depth'].round(0)\n",
    "#     data = data.groupby(data['c_depth']).mean()\n",
    "#     data['profile'] = [profile]*len(data)\n",
    "    \n",
    "    #data binned by other meter\n",
    "    ttitle = \"0.5 meter bins\"\n",
    "    #data['c_depth'] = data['c_depth']*0.5\n",
    "    data['c_depth'] = data['c_depth'].round(0)\n",
    "    data = data.groupby(data['c_depth']).mean()\n",
    "    #data['c_depth'] = data['c_depth']/0.5\n",
    "    data['profile'] = [profile]*len(data)\n",
    "    \n",
    "    #if profile not in [6,12,16,28,34,48,56]:\n",
    "    #    grid = pd.concat([grid,data])\n",
    "    if profile not in [48]:\n",
    "        grid = pd.concat([grid,data])"
   ]
  },
  {
   "cell_type": "code",
   "execution_count": 92,
   "metadata": {
    "scrolled": false
   },
   "outputs": [
    {
     "data": {
      "text/plain": [
       "[<matplotlib.lines.Line2D at 0x16d0af19e80>]"
      ]
     },
     "execution_count": 92,
     "metadata": {},
     "output_type": "execute_result"
    },
    {
     "data": {
      "image/png": "[encoded data removed]",
      "text/plain": [
       "<Figure size 432x288 with 1 Axes>"
      ]
     },
     "metadata": {},
     "output_type": "display_data"
    }
   ],
   "source": [
    "plt.plot(grid['N2_sort'])"
   ]
  },
  {
   "cell_type": "code",
   "execution_count": 93,
   "metadata": {},
   "outputs": [],
   "source": [
    "[LT,Td,Nsqu,Lo,R,x_sorted,idxs] = TKED.thorpe_scales(data[\"c_depth\"].values*-1,data['c_dens'].values,full_output=True)\n",
    "data[\"Td\"] = Td\n",
    "data[\"Td\"] = data[\"Td\"].rolling(10).mean()\n",
    "data[\"Td\"] = data[\"Td\"]**2\n",
    "data[\"Td\"] = data[\"Td\"].rolling(10).mean()\n",
    "data[\"LT\"] = np.sqrt(data[\"Td\"])"
   ]
  },
  {
   "cell_type": "code",
   "execution_count": 94,
   "metadata": {},
   "outputs": [
    {
     "data": {
      "text/plain": [
       "Text(0,0.5,'P (dbar)')"
      ]
     },
     "execution_count": 94,
     "metadata": {},
     "output_type": "execute_result"
    },
    {
     "data": {
      "image/png": "[encoded data removed]",
      "text/plain": [
       "<Figure size 432x288 with 1 Axes>"
      ]
     },
     "metadata": {},
     "output_type": "display_data"
    }
   ],
   "source": [
    "plt.semilogx((0.64*(data['LT']**2)*(data['N2_sort']**(3/2))),-data['c_pres'], 'k')\n",
    "plt.xlabel(\"$\\epsilon$ [W/kg]\")\n",
    "plt.ylabel(\"P (dbar)\")"
   ]
  },
  {
   "cell_type": "code",
   "execution_count": null,
   "metadata": {
    "collapsed": true
   },
   "outputs": [],
   "source": []
  },
  {
   "cell_type": "code",
   "execution_count": null,
   "metadata": {},
   "outputs": [],
   "source": []
  },
  {
   "cell_type": "code",
   "execution_count": null,
   "metadata": {},
   "outputs": [],
   "source": []
  },
  {
   "cell_type": "code",
   "execution_count": null,
   "metadata": {},
   "outputs": [],
   "source": []
  }
 ],
 "metadata": {
  "kernelspec": {
   "display_name": "Python [conda env:wire3]",
   "language": "python",
   "name": "conda-env-wire3-py"
  },
  "language_info": {
   "codemirror_mode": {
    "name": "ipython",
    "version": 3
   },
   "file_extension": ".py",
   "mimetype": "text/x-python",
   "name": "python",
   "nbconvert_exporter": "python",
   "pygments_lexer": "ipython3",
   "version": "3.6.6"
  }
 },
 "nbformat": 4,
 "nbformat_minor": 2
}
