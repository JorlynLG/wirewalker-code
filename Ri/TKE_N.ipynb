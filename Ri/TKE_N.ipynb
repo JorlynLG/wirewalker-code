{
 "cells": [
  {
   "cell_type": "code",
   "execution_count": 124,
   "metadata": {
    "collapsed": true
   },
   "outputs": [],
   "source": [
    "import pandas as pd\n",
    "import numpy as np\n",
    "import matplotlib.pyplot as plt\n",
    "import gsw\n",
    "import scipy.signal as sp\n",
    "import datetime as dt\n",
    "from beam2ENU import beam2ENU\n",
    "import seawater as sw\n",
    "import oceans as oc\n",
    "from scipy.interpolate import griddata\n",
    "from ocean_tools import TKED\n"
   ]
  },
  {
   "cell_type": "code",
   "execution_count": 125,
   "metadata": {
    "collapsed": true
   },
   "outputs": [],
   "source": [
    "directory = '../../Data/deployment_raw/';\n",
    "outdir = '../../plots/ctd/thorpe/';\n",
    "deployment_name = 'deploy1_';\n",
    "measurement_type = 'ctd_';\n",
    "file_type = 'raw_'\n",
    "i = 0\n",
    "c_file = 'C'+(\"%07d\" % (i,))\n",
    "c_data = pd.read_pickle(directory+deployment_name+file_type+c_file)"
   ]
  },
  {
   "cell_type": "code",
   "execution_count": 126,
   "metadata": {
    "collapsed": true
   },
   "outputs": [],
   "source": [
    "def buoyancy_freq(data):\n",
    "    #Get buoyancy frequency\n",
    "    dp = np.diff(data['c_pres'].values,axis=0)\n",
    "    data['dp'] = np.append(dp,dp[-1])\n",
    "    data['dp'] = data['dp'].mask(((data['dp']-data['dp'].mean()).abs() > data['dp'].std()))\n",
    "    data['dp'] = data['dp'].interpolate().rolling(5).mean()\n",
    "    CT = gsw.CT_from_t(data['c_sal'],data['c_temp'],data['c_pres'])\n",
    "    SA = gsw.SA_from_SP(data['c_sal'],data['c_pres'],174,-43)\n",
    "    pdens = gsw.sigma0(SA, CT)\n",
    "    data['pdens'] = pdens\n",
    "    dpdens = np.diff(data['pdens'].values,axis=0)\n",
    "    data['dpdens'] = np.append(dpdens,dpdens[-1])\n",
    "    data['dpdens'] = data['dpdens'].mask(((data['dpdens']-data['dpdens'].mean()).abs() > data['dpdens'].std()))\n",
    "    data['dpdens'] = data['dpdens'].interpolate().rolling(5).mean()    \n",
    "    data['N2'] = (-9.7963*data['dpdens'])/(data['pdens']*data['dp'])\n",
    "\n",
    "    \n",
    "    \n",
    "    #filter buoyancy frequency by removing outliers\n",
    "    #data['N2'] = data['N2'].mask(data['N2']< 0.000005)\n",
    "    data['N2'] = data[\"N2\"].replace([np.inf, -np.inf], np.nan)\n",
    "    data['N2'] = data['N2'].mask(((data['N2']-data['N2'].mean()).abs() > data['N2'].std()))\n",
    "    data['N2'] = data['N2'].interpolate().rolling(10).mean()\n",
    "    #data['N2'] = data['N2'].mask(((data['N2']-data['N2'].mean()).abs() > 3*data['N2'].std()))\n",
    "    #data['N2'] = data['N2'].interpolate()\n",
    "    \n",
    "    #Sorted\n",
    "    data['pdens_sort'] = np.sort(pdens)\n",
    "    dpdens_sort = np.diff(data['pdens_sort'].values,axis=0)\n",
    "    data['dpdens_sort'] = np.append(dpdens_sort,dpdens_sort[-1])\n",
    "    data['dpdens_sort'] = data['dpdens_sort'].mask(((data['dpdens_sort']-data['dpdens_sort'].mean()).abs() > data['dpdens_sort'].std()))\n",
    "    data['dpdens_sort'] = data['dpdens_sort'].interpolate().rolling(5).mean()    \n",
    "    data['N2_sort'] = (-9.7963*data['dpdens_sort'])/(data['pdens_sort']*data['dp'])    \n",
    "    \n",
    "    return data"
   ]
  },
  {
   "cell_type": "code",
   "execution_count": 127,
   "metadata": {},
   "outputs": [
    {
     "name": "stdout",
     "output_type": "stream",
     "text": [
      "0           NaN\n",
      "1           NaN\n",
      "2           NaN\n",
      "3           NaN\n",
      "4           NaN\n",
      "5           NaN\n",
      "6     -0.004366\n",
      "7     -0.003259\n",
      "8     -0.002104\n",
      "9     -0.001428\n",
      "10    -0.000878\n",
      "11    -0.002574\n",
      "12    -0.001897\n",
      "13    -0.001804\n",
      "14    -0.001896\n",
      "15    -0.001538\n",
      "16    -0.000834\n",
      "17    -0.000758\n",
      "18    -0.000998\n",
      "19    -0.000733\n",
      "20    -0.000613\n",
      "21    -0.000574\n",
      "22    -0.000506\n",
      "23    -0.000417\n",
      "24    -0.000462\n",
      "25    -0.000333\n",
      "26    -0.000599\n",
      "27    -0.000226\n",
      "28    -0.000194\n",
      "29    -0.000197\n",
      "         ...   \n",
      "884   -0.000254\n",
      "885   -0.000385\n",
      "886   -0.000232\n",
      "887   -0.000293\n",
      "888   -0.000529\n",
      "889   -0.000555\n",
      "890   -0.000779\n",
      "891   -0.000420\n",
      "892   -0.000194\n",
      "893   -0.000124\n",
      "894   -0.000088\n",
      "895   -0.000049\n",
      "896   -0.000043\n",
      "897   -0.000059\n",
      "898   -0.000162\n",
      "899   -0.005699\n",
      "900    0.000433\n",
      "901    0.000618\n",
      "902    0.000675\n",
      "903    0.002222\n",
      "904   -0.000864\n",
      "905   -0.000439\n",
      "906   -0.000881\n",
      "907   -0.000395\n",
      "908   -0.000403\n",
      "909   -0.000655\n",
      "910    0.001479\n",
      "911   -0.000896\n",
      "912   -0.000308\n",
      "913   -0.000175\n",
      "Name: N2_sort, Length: 914, dtype: float64\n"
     ]
    },
    {
     "data": {
      "text/plain": [
       "[<matplotlib.lines.Line2D at 0x220f35fd8d0>]"
      ]
     },
     "execution_count": 127,
     "metadata": {},
     "output_type": "execute_result"
    },
    {
     "data": {
      "image/png": "[encoded data removed]",
      "text/plain": [
       "<Figure size 432x288 with 1 Axes>"
      ]
     },
     "metadata": {},
     "output_type": "display_data"
    }
   ],
   "source": [
    "c_data = buoyancy_freq(c_data)\n",
    "print(c_data['N2_sort'])\n",
    "c_data['N2_sort'] = c_data[\"N2_sort\"].replace([np.inf, -np.inf], np.nan)\n",
    "c_data['N2_sort'] = c_data['N2_sort'].mask(((c_data['N2_sort']-c_data['N2_sort'].mean()).abs() > 3*c_data['N2_sort'].std()))\n",
    "#c_data['N2_sort'] = c_data['N2_sort'].interpolate().rolling(10).mean()\n",
    "plt.plot(c_data['N2_sort'])"
   ]
  },
  {
   "cell_type": "code",
   "execution_count": 128,
   "metadata": {},
   "outputs": [],
   "source": [
    "[LT,Td,Nsqu,Lo,R,x_sorted,idxs] = TKED.thorpe_scales(c_data[\"c_depth\"].values*-1,c_data['c_dens'].values,full_output=True)\n",
    "c_data[\"Td\"] = Td\n",
    "c_data[\"Td\"] = c_data[\"Td\"].rolling(10).mean()\n",
    "c_data[\"Td\"] = c_data[\"Td\"]**2\n",
    "c_data[\"Td\"] = c_data[\"Td\"].rolling(10).mean()\n",
    "c_data[\"LT\"] = np.sqrt(c_data[\"Td\"])"
   ]
  },
  {
   "cell_type": "code",
   "execution_count": 129,
   "metadata": {},
   "outputs": [
    {
     "data": {
      "text/plain": [
       "[<matplotlib.lines.Line2D at 0x220f365a518>]"
      ]
     },
     "execution_count": 129,
     "metadata": {},
     "output_type": "execute_result"
    },
    {
     "data": {
      "image/png": "[encoded data removed]",
      "text/plain": [
       "<Figure size 432x288 with 1 Axes>"
      ]
     },
     "metadata": {},
     "output_type": "display_data"
    }
   ],
   "source": [
    "plt.plot((0.64*(c_data['LT']**2)*(c_data['N2_sort']**(3/2))),-c_data['c_pres'])"
   ]
  },
  {
   "cell_type": "code",
   "execution_count": 130,
   "metadata": {},
   "outputs": [
    {
     "data": {
      "text/plain": [
       "[<matplotlib.lines.Line2D at 0x220f36b4d68>]"
      ]
     },
     "execution_count": 130,
     "metadata": {},
     "output_type": "execute_result"
    },
    {
     "data": {
      "image/png": "[encoded data removed]",
      "text/plain": [
       "<Figure size 432x288 with 1 Axes>"
      ]
     },
     "metadata": {},
     "output_type": "display_data"
    }
   ],
   "source": [
    "plt.plot(c_data['N2_sort'])\n"
   ]
  },
  {
   "cell_type": "code",
   "execution_count": null,
   "metadata": {
    "collapsed": true
   },
   "outputs": [],
   "source": []
  }
 ],
 "metadata": {
  "kernelspec": {
   "display_name": "Python (wire3)",
   "language": "python",
   "name": "wire3"
  },
  "language_info": {
   "codemirror_mode": {
    "name": "ipython",
    "version": 3
   },
   "file_extension": ".py",
   "mimetype": "text/x-python",
   "name": "python",
   "nbconvert_exporter": "python",
   "pygments_lexer": "ipython3",
   "version": "3.6.6"
  }
 },
 "nbformat": 4,
 "nbformat_minor": 2
}
