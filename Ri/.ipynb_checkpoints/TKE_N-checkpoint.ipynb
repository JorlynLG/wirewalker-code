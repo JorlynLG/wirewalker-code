{
 "cells": [
  {
   "cell_type": "code",
   "execution_count": 65,
   "metadata": {
    "collapsed": true
   },
   "outputs": [],
   "source": [
    "import pandas as pd\n",
    "import numpy as np\n",
    "import matplotlib.pyplot as plt\n",
    "import gsw\n",
    "import scipy.signal as sp\n",
    "import datetime as dt\n",
    "from beam2ENU import beam2ENU\n",
    "import seawater as sw\n",
    "import oceans as oc\n",
    "from scipy.interpolate import griddata\n",
    "from ocean_tools import TKED\n"
   ]
  },
  {
   "cell_type": "code",
   "execution_count": 66,
   "metadata": {
    "collapsed": true
   },
   "outputs": [],
   "source": [
    "directory = '../../Data/deployment_raw/';\n",
    "outdir = '../../plots/ctd/thorpe/';\n",
    "deployment_name = 'deploy1_';\n",
    "measurement_type = 'ctd_';\n",
    "file_type = 'raw_'\n",
    "i = 4\n",
    "c_file = 'C'+(\"%07d\" % (i,))\n",
    "c_data = pd.read_pickle(directory+deployment_name+file_type+c_file)"
   ]
  },
  {
   "cell_type": "code",
   "execution_count": 67,
   "metadata": {
    "collapsed": true
   },
   "outputs": [],
   "source": [
    "def buoyancy_freq(data):\n",
    "    #Get buoyancy frequency\n",
    "    dp = np.diff(data['c_pres'].values,axis=0)\n",
    "    data['dp'] = np.append(dp,dp[-1])\n",
    "    data['dp'] = data['dp'].mask(((data['dp']-data['dp'].mean()).abs() > data['dp'].std()))\n",
    "    data['dp'] = data['dp'].interpolate().rolling(5).mean()\n",
    "    CT = gsw.CT_from_t(data['c_sal'],data['c_temp'],data['c_pres'])\n",
    "    SA = gsw.SA_from_SP(data['c_sal'],data['c_pres'],174,-43)\n",
    "    pdens = gsw.sigma0(SA, CT)\n",
    "    data['pdens'] = pdens\n",
    "    dpdens = np.diff(data['pdens'].values,axis=0)\n",
    "    data['dpdens'] = np.append(dpdens,dpdens[-1])\n",
    "    data['dpdens'] = data['dpdens'].mask(((data['dpdens']-data['dpdens'].mean()).abs() > data['dpdens'].std()))\n",
    "    data['dpdens'] = data['dpdens'].interpolate().rolling(5).mean()    \n",
    "    data['N2'] = (9.7963*data['dpdens'])/(data['pdens']*data['dp'])\n",
    "\n",
    "    \n",
    "    \n",
    "    #filter buoyancy frequency by removing outliers\n",
    "    #data['N2'] = data['N2'].mask(data['N2']< 0.000005)\n",
    "    data['N2'] = data[\"N2\"].replace([np.inf, -np.inf], np.nan)\n",
    "    data['N2'] = data['N2'].mask(((data['N2']-data['N2'].mean()).abs() > data['N2'].std()))\n",
    "    data['N2'] = data['N2'].interpolate().rolling(10).mean()\n",
    "    #data['N2'] = data['N2'].mask(((data['N2']-data['N2'].mean()).abs() > 3*data['N2'].std()))\n",
    "    #data['N2'] = data['N2'].interpolate()\n",
    "    \n",
    "    #Sorted\n",
    "    data['pdens_sort'] = np.sort(pdens)\n",
    "    dpdens_sort = np.diff(data['pdens_sort'].values,axis=0)\n",
    "    data['dpdens_sort'] = np.append(dpdens_sort,dpdens_sort[-1])\n",
    "    data['dpdens_sort'] = data['dpdens_sort'].mask(((data['dpdens_sort']-data['dpdens_sort'].mean()).abs() > data['dpdens_sort'].std()))\n",
    "    data['dpdens_sort'] = data['dpdens_sort'].interpolate().rolling(5).mean()    \n",
    "    data['N2_sort'] = (-9.7963*data['dpdens_sort'])/(data['pdens_sort']*data['dp'])    \n",
    "    \n",
    "    #filter buoyancy frequency by removing outliers\n",
    "    #data['N2'] = data['N2'].mask(data['N2']< 0.000005)\n",
    "    data['N2_sort'] = data[\"N2_sort\"].replace([np.inf, -np.inf], np.nan)\n",
    "    data['N2_sort'] = data['N2_sort'].mask(((data['N2_sort']-data['N2_sort'].mean()).abs() > data['N2_sort'].std()))\n",
    "    data['N2_sort'] = data['N2_sort'].interpolate().rolling(10).mean()\n",
    "    #data['N2'] = data['N2'].mask(((data['N2']-data['N2'].mean()).abs() > 3*data['N2'].std()))\n",
    "    #data['N2'] = data['N2'].interpolate()\n",
    "    return data"
   ]
  },
  {
   "cell_type": "code",
   "execution_count": 68,
   "metadata": {
    "collapsed": true
   },
   "outputs": [],
   "source": [
    "c_data = buoyancy_freq(c_data)"
   ]
  },
  {
   "cell_type": "code",
   "execution_count": 69,
   "metadata": {},
   "outputs": [],
   "source": [
    "[LT,Td,Nsqu,Lo,R,x_sorted,idxs] = TKED.thorpe_scales(c_data[\"c_depth\"].values*-1,c_data['c_dens'].values,full_output=True)\n",
    "c_data[\"Td\"] = Td\n",
    "c_data[\"Td\"] = c_data[\"Td\"].rolling(10).mean()\n",
    "c_data[\"Td\"] = c_data[\"Td\"]**2\n",
    "c_data[\"Td\"] = c_data[\"Td\"].rolling(10).mean()\n",
    "c_data[\"LT\"] = np.sqrt(c_data[\"Td\"])"
   ]
  },
  {
   "cell_type": "code",
   "execution_count": 70,
   "metadata": {},
   "outputs": [
    {
     "data": {
      "text/plain": [
       "[<matplotlib.lines.Line2D at 0x220f0e41da0>]"
      ]
     },
     "execution_count": 70,
     "metadata": {},
     "output_type": "execute_result"
    },
    {
     "data": {
      "image/png": "[encoded data removed]",
      "text/plain": [
       "<Figure size 432x288 with 1 Axes>"
      ]
     },
     "metadata": {},
     "output_type": "display_data"
    }
   ],
   "source": [
    "plt.plot((0.64*(c_data['LT']**2)*(c_data['N2_sort']**(3/2))),-c_data['c_pres'])"
   ]
  },
  {
   "cell_type": "code",
   "execution_count": 71,
   "metadata": {},
   "outputs": [
    {
     "data": {
      "text/plain": [
       "[<matplotlib.lines.Line2D at 0x220f0e99b00>]"
      ]
     },
     "execution_count": 71,
     "metadata": {},
     "output_type": "execute_result"
    },
    {
     "data": {
      "image/png": "[encoded data removed]",
      "text/plain": [
       "<Figure size 432x288 with 1 Axes>"
      ]
     },
     "metadata": {},
     "output_type": "display_data"
    }
   ],
   "source": [
    "plt.plot(c_data['N2_sort'])\n"
   ]
  },
  {
   "cell_type": "code",
   "execution_count": null,
   "metadata": {
    "collapsed": true
   },
   "outputs": [],
   "source": []
  }
 ],
 "metadata": {
  "kernelspec": {
   "display_name": "Python (wire3)",
   "language": "python",
   "name": "wire3"
  },
  "language_info": {
   "codemirror_mode": {
    "name": "ipython",
    "version": 3
   },
   "file_extension": ".py",
   "mimetype": "text/x-python",
   "name": "python",
   "nbconvert_exporter": "python",
   "pygments_lexer": "ipython3",
   "version": "3.6.6"
  }
 },
 "nbformat": 4,
 "nbformat_minor": 2
}
