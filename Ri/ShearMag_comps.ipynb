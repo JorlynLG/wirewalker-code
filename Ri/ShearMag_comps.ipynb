{
 "cells": [
  {
   "cell_type": "code",
   "execution_count": 21,
   "metadata": {
    "collapsed": true
   },
   "outputs": [],
   "source": [
    "import pandas as pd\n",
    "import numpy as np\n",
    "import matplotlib.pyplot as plt\n",
    "import gsw\n",
    "import scipy.signal as sp\n",
    "import datetime as dt\n",
    "from beam2ENU import beam2ENU\n",
    "import seawater as sw\n",
    "import oceans as oc"
   ]
  },
  {
   "cell_type": "code",
   "execution_count": 22,
   "metadata": {},
   "outputs": [],
   "source": [
    "directory = '../../Data/deployment_raw/';\n",
    "outdir = '../../plots/Ri/Ri_profile/';\n",
    "deployment_name = 'deploy1_';\n",
    "measurement_type = 'ctd_';\n",
    "file_type = 'raw_'\n",
    "profile = 0;\n",
    "#Open the CTD data file that has all data stored as pandas\n",
    "c_file = 'C'+(\"%07d\" % (profile,))\n",
    "a_file = 'A'+(\"%07d\" % (profile,))\n",
    "c_data = pd.read_pickle(directory+deployment_name+file_type+c_file)\n",
    "a_data = pd.read_pickle(directory+deployment_name+file_type+a_file)\n",
    "\n",
    "#Join CTD and ADCP data together (add time to CTD data)\n",
    "start_time = a_data[\"a_time\"].values[1][:-10]\n",
    "start_time = dt.datetime.strptime(start_time,\"%Y-%m-%dT%H:%M:%S\")\n",
    "start_time = start_time - dt.timedelta(seconds=15)\n",
    "c_data[\"c_time\"] = [start_time+dt.timedelta(seconds=x) for x in range(len(c_data[\"c_temp\"].values))]\n",
    "c_data.index = pd.DatetimeIndex(c_data['c_time'])\n",
    "\n",
    "#And average ADCP to resample at 1Hz\n",
    "a_data.index = pd.DatetimeIndex(a_data['a_time'])\n",
    "a_data = a_data.resample('S').mean()\n",
    "#Combine both datasets into one dataset by time\n",
    "data = pd.concat([a_data, c_data], axis=1, sort=False).dropna(axis='rows')\n",
    "#Combine both datasets into one dataset by time\n",
    "data = pd.concat([a_data, c_data], axis=1, sort=False).dropna(axis='rows')\n",
    "#Create east and north data\n",
    "[east,north,up] = beam2ENU([data[\"a_beam1\"][0],data[\"a_beam2\"][0],data[\"a_beam3\"][0],data[\"a_beam4\"][0]],data['a_heading'].values,data['a_pitch'].values,data['a_roll'].values,data['a_vel1'].values,data['a_vel2'].values,data['a_vel3'].values)"
   ]
  },
  {
   "cell_type": "code",
   "execution_count": 27,
   "metadata": {},
   "outputs": [
    {
     "name": "stderr",
     "output_type": "stream",
     "text": [
      "C:\\Users\\jorly\\Anaconda3\\envs\\wire3\\lib\\site-packages\\ipykernel\\__main__.py:15: RuntimeWarning: divide by zero encountered in true_divide\n"
     ]
    },
    {
     "data": {
      "image/png": "[encoded data removed]",
      "text/plain": [
       "<Figure size 432x288 with 1 Axes>"
      ]
     },
     "metadata": {},
     "output_type": "display_data"
    }
   ],
   "source": [
    "#Shear Magnitude method 1 \n",
    "z = data['c_depth']\n",
    "u = east\n",
    "v = north\n",
    "z, u, v = list(map(np.asanyarray, (z, u, v)))\n",
    "z, u, v = np.broadcast_arrays(z, u, v)\n",
    "\n",
    "m = z.shape[0]\n",
    "iup = np.arange(0, m - 1)\n",
    "ilo = np.arange(1, m)\n",
    "z_ave = (z[iup] + z[ilo]) / 2.\n",
    "vel = np.sqrt(u ** 2 + v ** 2)\n",
    "diff_vel = np.diff(vel, axis=0)\n",
    "diff_z = np.diff(z, axis=0)\n",
    "shr = diff_vel / diff_z\n",
    "#return shr, z_ave\n",
    "\n",
    "#[shr, z_ave] = oc.sw_extras.shear(data['c_depth'].values,east,north)\n",
    "plt.plot(shr,z_ave)\n",
    "plt.show()"
   ]
  },
  {
   "cell_type": "code",
   "execution_count": null,
   "metadata": {
    "collapsed": true
   },
   "outputs": [],
   "source": [
    "#Shear Magnitude method 2"
   ]
  }
 ],
 "metadata": {
  "kernelspec": {
   "display_name": "Python [conda env:wire3]",
   "language": "python",
   "name": "conda-env-wire3-py"
  },
  "language_info": {
   "codemirror_mode": {
    "name": "ipython",
    "version": 3
   },
   "file_extension": ".py",
   "mimetype": "text/x-python",
   "name": "python",
   "nbconvert_exporter": "python",
   "pygments_lexer": "ipython3",
   "version": "3.6.6"
  }
 },
 "nbformat": 4,
 "nbformat_minor": 2
}
